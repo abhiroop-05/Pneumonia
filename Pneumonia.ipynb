{
  "nbformat": 4,
  "nbformat_minor": 0,
  "metadata": {
    "colab": {
      "provenance": []
    },
    "kernelspec": {
      "name": "python3",
      "display_name": "Python 3"
    },
    "language_info": {
      "name": "python"
    }
  },
  "cells": [
    {
      "cell_type": "code",
      "source": [
        "import os\n",
        "import tensorflow as tf\n",
        "from tensorflow.keras.models import Sequential, Model # Import Model for the functional API approach\n",
        "from tensorflow.keras.layers import Conv2D, MaxPooling2D, Flatten, Dense, Dropout, BatchNormalization, GlobalAveragePooling2D # Added GlobalAveragePooling2D\n",
        "from tensorflow.keras.preprocessing.image import ImageDataGenerator\n",
        "from tensorflow.keras.models import save_model, load_model # Ensure load_model is imported if you plan to load later\n",
        "from tensorflow.keras.applications import MobileNetV2 # Import MobileNetV2\n",
        "from tensorflow.keras.optimizers import Adam # Explicitly import Adam\n",
        "\n",
        "import kagglehub # Import kagglehub\n",
        "\n",
        "# Assuming 'path' variable from previous cell is available:\n",
        "# path = kagglehub.dataset_download(\"paultimothymooney/chest-xray-pneumonia\")\n",
        "# print(\"Path to dataset files:\", path)\n",
        "\n",
        "# Paths - Construct paths using the downloaded dataset path\n",
        "# The structure of the downloaded dataset is typically 'dataset_name/subset/category'\n",
        "# We expect the data to be in a subdirectory named 'chest_xray' within the downloaded path\n",
        "# Make sure the 'path' variable is defined, e.g., by running the kagglehub download cell before this one.\n",
        "try:\n",
        "    train_path = os.path.join(path, 'chest_xray', 'train')\n",
        "    test_path = os.path.join(path, 'chest_xray', 'test')\n",
        "    print(f\"Using train path: {train_path}\")\n",
        "    print(f\"Using test path: {test_path}\")\n",
        "except NameError:\n",
        "    print(\"Error: The 'path' variable is not defined. Please run the cell that downloads the dataset using kagglehub.\")\n",
        "    # Exit the script if the path is not defined\n",
        "    exit()\n",
        "\n",
        "\n",
        "# Image settings\n",
        "img_size = 150\n",
        "batch_size = 8 # Reduced batch size for potentially lower memory usage\n",
        "\n",
        "# Data Preprocessing with Data Augmentation for training\n",
        "train_datagen = ImageDataGenerator(\n",
        "    rescale=1./255,\n",
        "    rotation_range=20,      # Randomly rotate images by up to 20 degrees\n",
        "    width_shift_range=0.1,  # Randomly shift images horizontally by up to 10% of the width\n",
        "    height_shift_range=0.1, # Randomly shift images vertically by up to 10% of the height\n",
        "    shear_range=0.1,        # Apply shearing transformation\n",
        "    zoom_range=0.1,         # Randomly zoom inside images\n",
        "    horizontal_flip=True    # Randomly flip images horizontally\n",
        ")\n",
        "test_datagen = ImageDataGenerator(rescale=1./255) # No augmentation for test data\n",
        "\n",
        "# Use the constructed paths\n",
        "# Added error handling in case paths are not correctly set\n",
        "try:\n",
        "    train_gen = train_datagen.flow_from_directory(\n",
        "        train_path,\n",
        "        target_size=(img_size, img_size),\n",
        "        batch_size=batch_size,\n",
        "        class_mode='binary'\n",
        "    )\n",
        "\n",
        "    test_gen = test_datagen.flow_from_directory(\n",
        "        test_path,\n",
        "        target_size=(img_size, img_size),\n",
        "        batch_size=batch_size,\n",
        "        class_mode='binary'\n",
        "    )\n",
        "except FileNotFoundError:\n",
        "     print(f\"Error: Directory not found. Please ensure the paths {train_path} and {test_path} exist.\")\n",
        "     # Exit the script if directories are not found\n",
        "     exit()\n",
        "\n",
        "\n",
        "# Load the pre-trained MobileNetV2 model\n",
        "# include_top=False removes the classification layer\n",
        "base_model = MobileNetV2(input_shape=(img_size, img_size, 3),\n",
        "                         include_top=False,\n",
        "                         weights='imagenet') # Use weights pre-trained on ImageNet\n",
        "\n",
        "# Freeze the base model layers so they are not trained\n",
        "# This keeps the pre-trained features\n",
        "base_model.trainable = False\n",
        "\n",
        "# Create a new model on top of the pre-trained model\n",
        "model = Sequential([\n",
        "    base_model, # Add the pre-trained base model\n",
        "    GlobalAveragePooling2D(), # Use Global Average Pooling instead of Flatten\n",
        "    Dense(128, activation='relu'),\n",
        "    BatchNormalization(), # Optional: Add Batch Norm here too\n",
        "    Dropout(0.5),\n",
        "    Dense(1, activation='sigmoid') # Output layer for binary classification\n",
        "])\n",
        "\n",
        "# Compile the model\n",
        "# Use a slightly lower learning rate for Adam when using transfer learning\n",
        "model.compile(optimizer=Adam(learning_rate=0.0001),\n",
        "              loss='binary_crossentropy',\n",
        "              metrics=['accuracy'])\n",
        "\n",
        "# Print model summary to see the layers\n",
        "model.summary()\n",
        "\n",
        "\n",
        "# Train the model (only the newly added layers will be trained initially)\n",
        "print(\"Starting model training (transfer learning)...\")\n",
        "# Increased epochs again, might need fewer with transfer learning\n",
        "history = model.fit(train_gen, validation_data=test_gen, epochs=10) # Started with 10 epochs, adjust as needed\n",
        "\n",
        "# Optional: Fine-tuning\n",
        "# After training the top layers, you can unfreeze some layers of the base model\n",
        "# and train the whole model with a very low learning rate.\n",
        "# This can sometimes improve accuracy further.\n",
        "\n",
        "# Unfreeze the last few layers of the base model\n",
        "# base_model.trainable = True\n",
        "# # Let's fine-tune from this layer onwards\n",
        "# fine_tune_at = 100 # Experiment with different layer indices\n",
        "\n",
        "# # Freeze all layers before the `fine_tune_at` layer\n",
        "# for layer in base_model.layers[:fine_tune_at]:\n",
        "#     layer.trainable = False\n",
        "\n",
        "# # Recompile the model with a very low learning rate\n",
        "# model.compile(loss='binary_crossentropy',\n",
        "#               optimizer=tf.keras.optimizers.RMSprop(learning_rate=0.00001), # Using RMSprop with very low LR\n",
        "#               metrics=['accuracy'])\n",
        "\n",
        "# model.summary()\n",
        "\n",
        "# # Continue training with fine-tuning\n",
        "# print(\"Starting fine-tuning...\")\n",
        "# history_fine_tune = model.fit(train_gen,\n",
        "#                               epochs=history.epoch[-1] + 5, # Train for an additional 5 epochs\n",
        "#                               initial_epoch=history.epoch[-1],\n",
        "#                               validation_data=test_gen)\n",
        "\n",
        "\n",
        "# Save the final model\n",
        "model.save('pneumonia_model_mobilenetv2.h5') # Save with a new name\n",
        "print(\"Model saved as 'pneumonia_model_mobilenetv2.h5'\")\n",
        "\n",
        "# Check the model's accuracy on the test set\n",
        "print(\"Evaluating model on test set...\")\n",
        "loss, accuracy = model.evaluate(test_gen)\n",
        "\n",
        "print(f\"Test Loss: {loss:.4f}\")\n",
        "print(f\"Test Accuracy: {accuracy:.4f}\")"
      ],
      "metadata": {
        "colab": {
          "base_uri": "https://localhost:8080/",
          "height": 1000
        },
        "id": "rIvC_9SR2LWd",
        "outputId": "893f393b-a5f8-46ba-fd0e-efce94db7030"
      },
      "execution_count": null,
      "outputs": [
        {
          "output_type": "stream",
          "name": "stdout",
          "text": [
            "Using train path: /root/.cache/kagglehub/datasets/paultimothymooney/chest-xray-pneumonia/versions/2/chest_xray/train\n",
            "Using test path: /root/.cache/kagglehub/datasets/paultimothymooney/chest-xray-pneumonia/versions/2/chest_xray/test\n",
            "Found 5216 images belonging to 2 classes.\n",
            "Found 624 images belonging to 2 classes.\n"
          ]
        },
        {
          "output_type": "stream",
          "name": "stderr",
          "text": [
            "<ipython-input-9-38ca1335110f>:71: UserWarning: `input_shape` is undefined or non-square, or `rows` is not in [96, 128, 160, 192, 224]. Weights for input shape (224, 224) will be loaded as the default.\n",
            "  base_model = MobileNetV2(input_shape=(img_size, img_size, 3),\n"
          ]
        },
        {
          "output_type": "stream",
          "name": "stdout",
          "text": [
            "Downloading data from https://storage.googleapis.com/tensorflow/keras-applications/mobilenet_v2/mobilenet_v2_weights_tf_dim_ordering_tf_kernels_1.0_224_no_top.h5\n",
            "\u001b[1m9406464/9406464\u001b[0m \u001b[32m━━━━━━━━━━━━━━━━━━━━\u001b[0m\u001b[37m\u001b[0m \u001b[1m0s\u001b[0m 0us/step\n"
          ]
        },
        {
          "output_type": "display_data",
          "data": {
            "text/plain": [
              "\u001b[1mModel: \"sequential_2\"\u001b[0m\n"
            ],
            "text/html": [
              "<pre style=\"white-space:pre;overflow-x:auto;line-height:normal;font-family:Menlo,'DejaVu Sans Mono',consolas,'Courier New',monospace\"><span style=\"font-weight: bold\">Model: \"sequential_2\"</span>\n",
              "</pre>\n"
            ]
          },
          "metadata": {}
        },
        {
          "output_type": "display_data",
          "data": {
            "text/plain": [
              "┏━━━━━━━━━━━━━━━━━━━━━━━━━━━━━━━━━┳━━━━━━━━━━━━━━━━━━━━━━━━┳━━━━━━━━━━━━━━━┓\n",
              "┃\u001b[1m \u001b[0m\u001b[1mLayer (type)                   \u001b[0m\u001b[1m \u001b[0m┃\u001b[1m \u001b[0m\u001b[1mOutput Shape          \u001b[0m\u001b[1m \u001b[0m┃\u001b[1m \u001b[0m\u001b[1m      Param #\u001b[0m\u001b[1m \u001b[0m┃\n",
              "┡━━━━━━━━━━━━━━━━━━━━━━━━━━━━━━━━━╇━━━━━━━━━━━━━━━━━━━━━━━━╇━━━━━━━━━━━━━━━┩\n",
              "│ mobilenetv2_1.00_224            │ (\u001b[38;5;45mNone\u001b[0m, \u001b[38;5;34m5\u001b[0m, \u001b[38;5;34m5\u001b[0m, \u001b[38;5;34m1280\u001b[0m)     │     \u001b[38;5;34m2,257,984\u001b[0m │\n",
              "│ (\u001b[38;5;33mFunctional\u001b[0m)                    │                        │               │\n",
              "├─────────────────────────────────┼────────────────────────┼───────────────┤\n",
              "│ global_average_pooling2d        │ (\u001b[38;5;45mNone\u001b[0m, \u001b[38;5;34m1280\u001b[0m)           │             \u001b[38;5;34m0\u001b[0m │\n",
              "│ (\u001b[38;5;33mGlobalAveragePooling2D\u001b[0m)        │                        │               │\n",
              "├─────────────────────────────────┼────────────────────────┼───────────────┤\n",
              "│ dense_4 (\u001b[38;5;33mDense\u001b[0m)                 │ (\u001b[38;5;45mNone\u001b[0m, \u001b[38;5;34m128\u001b[0m)            │       \u001b[38;5;34m163,968\u001b[0m │\n",
              "├─────────────────────────────────┼────────────────────────┼───────────────┤\n",
              "│ batch_normalization_3           │ (\u001b[38;5;45mNone\u001b[0m, \u001b[38;5;34m128\u001b[0m)            │           \u001b[38;5;34m512\u001b[0m │\n",
              "│ (\u001b[38;5;33mBatchNormalization\u001b[0m)            │                        │               │\n",
              "├─────────────────────────────────┼────────────────────────┼───────────────┤\n",
              "│ dropout_2 (\u001b[38;5;33mDropout\u001b[0m)             │ (\u001b[38;5;45mNone\u001b[0m, \u001b[38;5;34m128\u001b[0m)            │             \u001b[38;5;34m0\u001b[0m │\n",
              "├─────────────────────────────────┼────────────────────────┼───────────────┤\n",
              "│ dense_5 (\u001b[38;5;33mDense\u001b[0m)                 │ (\u001b[38;5;45mNone\u001b[0m, \u001b[38;5;34m1\u001b[0m)              │           \u001b[38;5;34m129\u001b[0m │\n",
              "└─────────────────────────────────┴────────────────────────┴───────────────┘\n"
            ],
            "text/html": [
              "<pre style=\"white-space:pre;overflow-x:auto;line-height:normal;font-family:Menlo,'DejaVu Sans Mono',consolas,'Courier New',monospace\">┏━━━━━━━━━━━━━━━━━━━━━━━━━━━━━━━━━┳━━━━━━━━━━━━━━━━━━━━━━━━┳━━━━━━━━━━━━━━━┓\n",
              "┃<span style=\"font-weight: bold\"> Layer (type)                    </span>┃<span style=\"font-weight: bold\"> Output Shape           </span>┃<span style=\"font-weight: bold\">       Param # </span>┃\n",
              "┡━━━━━━━━━━━━━━━━━━━━━━━━━━━━━━━━━╇━━━━━━━━━━━━━━━━━━━━━━━━╇━━━━━━━━━━━━━━━┩\n",
              "│ mobilenetv2_1.00_224            │ (<span style=\"color: #00d7ff; text-decoration-color: #00d7ff\">None</span>, <span style=\"color: #00af00; text-decoration-color: #00af00\">5</span>, <span style=\"color: #00af00; text-decoration-color: #00af00\">5</span>, <span style=\"color: #00af00; text-decoration-color: #00af00\">1280</span>)     │     <span style=\"color: #00af00; text-decoration-color: #00af00\">2,257,984</span> │\n",
              "│ (<span style=\"color: #0087ff; text-decoration-color: #0087ff\">Functional</span>)                    │                        │               │\n",
              "├─────────────────────────────────┼────────────────────────┼───────────────┤\n",
              "│ global_average_pooling2d        │ (<span style=\"color: #00d7ff; text-decoration-color: #00d7ff\">None</span>, <span style=\"color: #00af00; text-decoration-color: #00af00\">1280</span>)           │             <span style=\"color: #00af00; text-decoration-color: #00af00\">0</span> │\n",
              "│ (<span style=\"color: #0087ff; text-decoration-color: #0087ff\">GlobalAveragePooling2D</span>)        │                        │               │\n",
              "├─────────────────────────────────┼────────────────────────┼───────────────┤\n",
              "│ dense_4 (<span style=\"color: #0087ff; text-decoration-color: #0087ff\">Dense</span>)                 │ (<span style=\"color: #00d7ff; text-decoration-color: #00d7ff\">None</span>, <span style=\"color: #00af00; text-decoration-color: #00af00\">128</span>)            │       <span style=\"color: #00af00; text-decoration-color: #00af00\">163,968</span> │\n",
              "├─────────────────────────────────┼────────────────────────┼───────────────┤\n",
              "│ batch_normalization_3           │ (<span style=\"color: #00d7ff; text-decoration-color: #00d7ff\">None</span>, <span style=\"color: #00af00; text-decoration-color: #00af00\">128</span>)            │           <span style=\"color: #00af00; text-decoration-color: #00af00\">512</span> │\n",
              "│ (<span style=\"color: #0087ff; text-decoration-color: #0087ff\">BatchNormalization</span>)            │                        │               │\n",
              "├─────────────────────────────────┼────────────────────────┼───────────────┤\n",
              "│ dropout_2 (<span style=\"color: #0087ff; text-decoration-color: #0087ff\">Dropout</span>)             │ (<span style=\"color: #00d7ff; text-decoration-color: #00d7ff\">None</span>, <span style=\"color: #00af00; text-decoration-color: #00af00\">128</span>)            │             <span style=\"color: #00af00; text-decoration-color: #00af00\">0</span> │\n",
              "├─────────────────────────────────┼────────────────────────┼───────────────┤\n",
              "│ dense_5 (<span style=\"color: #0087ff; text-decoration-color: #0087ff\">Dense</span>)                 │ (<span style=\"color: #00d7ff; text-decoration-color: #00d7ff\">None</span>, <span style=\"color: #00af00; text-decoration-color: #00af00\">1</span>)              │           <span style=\"color: #00af00; text-decoration-color: #00af00\">129</span> │\n",
              "└─────────────────────────────────┴────────────────────────┴───────────────┘\n",
              "</pre>\n"
            ]
          },
          "metadata": {}
        },
        {
          "output_type": "display_data",
          "data": {
            "text/plain": [
              "\u001b[1m Total params: \u001b[0m\u001b[38;5;34m2,422,593\u001b[0m (9.24 MB)\n"
            ],
            "text/html": [
              "<pre style=\"white-space:pre;overflow-x:auto;line-height:normal;font-family:Menlo,'DejaVu Sans Mono',consolas,'Courier New',monospace\"><span style=\"font-weight: bold\"> Total params: </span><span style=\"color: #00af00; text-decoration-color: #00af00\">2,422,593</span> (9.24 MB)\n",
              "</pre>\n"
            ]
          },
          "metadata": {}
        },
        {
          "output_type": "display_data",
          "data": {
            "text/plain": [
              "\u001b[1m Trainable params: \u001b[0m\u001b[38;5;34m164,353\u001b[0m (642.00 KB)\n"
            ],
            "text/html": [
              "<pre style=\"white-space:pre;overflow-x:auto;line-height:normal;font-family:Menlo,'DejaVu Sans Mono',consolas,'Courier New',monospace\"><span style=\"font-weight: bold\"> Trainable params: </span><span style=\"color: #00af00; text-decoration-color: #00af00\">164,353</span> (642.00 KB)\n",
              "</pre>\n"
            ]
          },
          "metadata": {}
        },
        {
          "output_type": "display_data",
          "data": {
            "text/plain": [
              "\u001b[1m Non-trainable params: \u001b[0m\u001b[38;5;34m2,258,240\u001b[0m (8.61 MB)\n"
            ],
            "text/html": [
              "<pre style=\"white-space:pre;overflow-x:auto;line-height:normal;font-family:Menlo,'DejaVu Sans Mono',consolas,'Courier New',monospace\"><span style=\"font-weight: bold\"> Non-trainable params: </span><span style=\"color: #00af00; text-decoration-color: #00af00\">2,258,240</span> (8.61 MB)\n",
              "</pre>\n"
            ]
          },
          "metadata": {}
        },
        {
          "output_type": "stream",
          "name": "stdout",
          "text": [
            "Starting model training (transfer learning)...\n",
            "Epoch 1/10\n",
            "\u001b[1m652/652\u001b[0m \u001b[32m━━━━━━━━━━━━━━━━━━━━\u001b[0m\u001b[37m\u001b[0m \u001b[1m188s\u001b[0m 277ms/step - accuracy: 0.7001 - loss: 0.6285 - val_accuracy: 0.8285 - val_loss: 0.4003\n",
            "Epoch 2/10\n",
            "\u001b[1m652/652\u001b[0m \u001b[32m━━━━━━━━━━━━━━━━━━━━\u001b[0m\u001b[37m\u001b[0m \u001b[1m171s\u001b[0m 263ms/step - accuracy: 0.8364 - loss: 0.3813 - val_accuracy: 0.8670 - val_loss: 0.3452\n",
            "Epoch 3/10\n",
            "\u001b[1m652/652\u001b[0m \u001b[32m━━━━━━━━━━━━━━━━━━━━\u001b[0m\u001b[37m\u001b[0m \u001b[1m214s\u001b[0m 281ms/step - accuracy: 0.8842 - loss: 0.3029 - val_accuracy: 0.8590 - val_loss: 0.3309\n",
            "Epoch 4/10\n",
            "\u001b[1m652/652\u001b[0m \u001b[32m━━━━━━━━━━━━━━━━━━━━\u001b[0m\u001b[37m\u001b[0m \u001b[1m184s\u001b[0m 282ms/step - accuracy: 0.8922 - loss: 0.2555 - val_accuracy: 0.8606 - val_loss: 0.3339\n",
            "Epoch 5/10\n",
            "\u001b[1m652/652\u001b[0m \u001b[32m━━━━━━━━━━━━━━━━━━━━\u001b[0m\u001b[37m\u001b[0m \u001b[1m177s\u001b[0m 272ms/step - accuracy: 0.9008 - loss: 0.2471 - val_accuracy: 0.8798 - val_loss: 0.2826\n",
            "Epoch 6/10\n",
            "\u001b[1m652/652\u001b[0m \u001b[32m━━━━━━━━━━━━━━━━━━━━\u001b[0m\u001b[37m\u001b[0m \u001b[1m172s\u001b[0m 264ms/step - accuracy: 0.9069 - loss: 0.2284 - val_accuracy: 0.8558 - val_loss: 0.2969\n",
            "Epoch 7/10\n",
            "\u001b[1m652/652\u001b[0m \u001b[32m━━━━━━━━━━━━━━━━━━━━\u001b[0m\u001b[37m\u001b[0m \u001b[1m182s\u001b[0m 279ms/step - accuracy: 0.9076 - loss: 0.2293 - val_accuracy: 0.8638 - val_loss: 0.2981\n",
            "Epoch 8/10\n",
            "\u001b[1m652/652\u001b[0m \u001b[32m━━━━━━━━━━━━━━━━━━━━\u001b[0m\u001b[37m\u001b[0m \u001b[1m175s\u001b[0m 268ms/step - accuracy: 0.9098 - loss: 0.2183 - val_accuracy: 0.8750 - val_loss: 0.3035\n",
            "Epoch 9/10\n",
            "\u001b[1m652/652\u001b[0m \u001b[32m━━━━━━━━━━━━━━━━━━━━\u001b[0m\u001b[37m\u001b[0m \u001b[1m178s\u001b[0m 274ms/step - accuracy: 0.9209 - loss: 0.2117 - val_accuracy: 0.8782 - val_loss: 0.2844\n",
            "Epoch 10/10\n",
            "\u001b[1m652/652\u001b[0m \u001b[32m━━━━━━━━━━━━━━━━━━━━\u001b[0m\u001b[37m\u001b[0m \u001b[1m176s\u001b[0m 270ms/step - accuracy: 0.9182 - loss: 0.2051 - val_accuracy: 0.8830 - val_loss: 0.2739\n"
          ]
        },
        {
          "output_type": "stream",
          "name": "stderr",
          "text": [
            "WARNING:absl:You are saving your model as an HDF5 file via `model.save()` or `keras.saving.save_model(model)`. This file format is considered legacy. We recommend using instead the native Keras format, e.g. `model.save('my_model.keras')` or `keras.saving.save_model(model, 'my_model.keras')`. \n"
          ]
        },
        {
          "output_type": "stream",
          "name": "stdout",
          "text": [
            "Model saved as 'pneumonia_model_mobilenetv2.h5'\n",
            "Evaluating model on test set...\n",
            "\u001b[1m78/78\u001b[0m \u001b[32m━━━━━━━━━━━━━━━━━━━━\u001b[0m\u001b[37m\u001b[0m \u001b[1m15s\u001b[0m 192ms/step - accuracy: 0.8817 - loss: 0.2695\n",
            "Test Loss: 0.2739\n",
            "Test Accuracy: 0.8830\n"
          ]
        }
      ]
    },
    {
      "cell_type": "code",
      "source": [
        "from google.colab import files\n",
        "files.download('pneumonia_model_mobilenetv2.h5')\n"
      ],
      "metadata": {
        "colab": {
          "base_uri": "https://localhost:8080/",
          "height": 17
        },
        "id": "-G7v8Gkm_8pF",
        "outputId": "4ca251e0-8cd4-406e-84c0-4d10f9511b00"
      },
      "execution_count": null,
      "outputs": [
        {
          "output_type": "display_data",
          "data": {
            "text/plain": [
              "<IPython.core.display.Javascript object>"
            ],
            "application/javascript": [
              "\n",
              "    async function download(id, filename, size) {\n",
              "      if (!google.colab.kernel.accessAllowed) {\n",
              "        return;\n",
              "      }\n",
              "      const div = document.createElement('div');\n",
              "      const label = document.createElement('label');\n",
              "      label.textContent = `Downloading \"${filename}\": `;\n",
              "      div.appendChild(label);\n",
              "      const progress = document.createElement('progress');\n",
              "      progress.max = size;\n",
              "      div.appendChild(progress);\n",
              "      document.body.appendChild(div);\n",
              "\n",
              "      const buffers = [];\n",
              "      let downloaded = 0;\n",
              "\n",
              "      const channel = await google.colab.kernel.comms.open(id);\n",
              "      // Send a message to notify the kernel that we're ready.\n",
              "      channel.send({})\n",
              "\n",
              "      for await (const message of channel.messages) {\n",
              "        // Send a message to notify the kernel that we're ready.\n",
              "        channel.send({})\n",
              "        if (message.buffers) {\n",
              "          for (const buffer of message.buffers) {\n",
              "            buffers.push(buffer);\n",
              "            downloaded += buffer.byteLength;\n",
              "            progress.value = downloaded;\n",
              "          }\n",
              "        }\n",
              "      }\n",
              "      const blob = new Blob(buffers, {type: 'application/binary'});\n",
              "      const a = document.createElement('a');\n",
              "      a.href = window.URL.createObjectURL(blob);\n",
              "      a.download = filename;\n",
              "      div.appendChild(a);\n",
              "      a.click();\n",
              "      div.remove();\n",
              "    }\n",
              "  "
            ]
          },
          "metadata": {}
        },
        {
          "output_type": "display_data",
          "data": {
            "text/plain": [
              "<IPython.core.display.Javascript object>"
            ],
            "application/javascript": [
              "download(\"download_7dd60b1d-b8c0-42f9-9e43-6960c0220f2c\", \"pneumonia_model_mobilenetv2.h5\", 11384472)"
            ]
          },
          "metadata": {}
        }
      ]
    }
  ]
}